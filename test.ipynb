{
 "cells": [
  {
   "cell_type": "code",
   "execution_count": 1,
   "metadata": {},
   "outputs": [],
   "source": [
    "from docx import Document"
   ]
  },
  {
   "cell_type": "code",
   "execution_count": 2,
   "metadata": {},
   "outputs": [
    {
     "name": "stdout",
     "output_type": "stream",
     "text": [
      "\u001b[92mGuided by the Guidelines, we incorporated two ubiquitous topics: corporate governance information and risk management, into the governance dimension. Building upon these principles, Xingzheng Financial Engineering's ESG factor library is structured across three dimensions: environmental, social, and governance-related sustainability information. The library comprises 11 key topics and 38 key indicators. Notably, the comprehensive coverage of underlying indicators reaches 500. Furthermore, we have also included specialized indicator factors, such as green revenue and penalty impact level.\u001b[0m\n"
     ]
    }
   ],
   "source": [
    "import os\n",
    "from groq import Groq\n",
    "\n",
    "client = Groq(\n",
    "    api_key=os.environ.get(\"GROQ_API_KEY\"),\n",
    ")"
   ]
  },
  {
   "cell_type": "code",
   "execution_count": 56,
   "metadata": {},
   "outputs": [
    {
     "data": {
      "text/plain": [
       "<docx.text.paragraph.Paragraph at 0x2bde80fd310>"
      ]
     },
     "execution_count": 56,
     "metadata": {},
     "output_type": "execute_result"
    }
   ],
   "source": [
    "document = Document('test.docx')\n",
    "prev_edit = None\n",
    "for para in document.paragraphs:\n",
    "    if prev_edit:\n",
    "        para.insert_paragraph_before(prev_edit, style='ListBullet')\n",
    "    text = para.text\n",
    "    edited_text = client.chat.completions.create(\n",
    "    messages=[\n",
    "        {\n",
    "            \"role\": \"system\",\n",
    "            \"content\": \"You're a professional editor in academia and your're editing a very important research paper.\\n\\nRe-write each paragraph you're given with appropriate word choices and sentence structures, only change where necessary.  Make sure your output is semantically identical.  Be clear, concise, and spartan.  You only have one try, so double check your edit for accuracy and readability.  Only output the edited paragraph.\",\n",
    "        },\n",
    "        {\n",
    "            \"role\": \"user\",\n",
    "            \"content\": text\n",
    "        }\n",
    "    ],\n",
    "    model=\"llama3-8b-8192\",\n",
    "    )\n",
    "    prev_edit = edited_text.choices[0].message.content\n",
    "\n",
    "document.add_paragraph(prev_edit, style='ListBullet')"
   ]
  },
  {
   "cell_type": "code",
   "execution_count": 57,
   "metadata": {},
   "outputs": [],
   "source": [
    "document.save('demo.docx')"
   ]
  }
 ],
 "metadata": {
  "kernelspec": {
   "display_name": "building",
   "language": "python",
   "name": "python3"
  },
  "language_info": {
   "codemirror_mode": {
    "name": "ipython",
    "version": 3
   },
   "file_extension": ".py",
   "mimetype": "text/x-python",
   "name": "python",
   "nbconvert_exporter": "python",
   "pygments_lexer": "ipython3",
   "version": "3.11.7"
  }
 },
 "nbformat": 4,
 "nbformat_minor": 2
}
