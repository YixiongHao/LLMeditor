{
 "cells": [
  {
   "cell_type": "code",
   "execution_count": 32,
   "metadata": {},
   "outputs": [],
   "source": [
    "from docx import Document\n",
    "from docx.shared import RGBColor"
   ]
  },
  {
   "cell_type": "code",
   "execution_count": 55,
   "metadata": {},
   "outputs": [
    {
     "name": "stdout",
     "output_type": "stream",
     "text": [
      "\u001b[92mBased on the guidelines, we also introduced two widely recognized topics, corporate governance information and risk management, under the governance category. Building on these concepts, the Environmental, Social, and Governance (ESG) factor library of Xingzheng Financial Engineering will be organized into three dimensions: environmental, social, and governance-related sustainable development information, encompassing 11 key topics and 38 key indicators. Collectively, the ESG factor library covers approximately 500 underlying indicators. Furthermore, we also provide specialized indicator factors, such as green revenue and penalty impact level, for additional analysis.\u001b[0m\n"
     ]
    }
   ],
   "source": [
    "import os\n",
    "from groq import Groq\n",
    "\n",
    "client = Groq(\n",
    "    api_key=os.environ.get(\"GROQ_API_KEY\"),\n",
    ")\n",
    "\n",
    "chat_completion = client.chat.completions.create(\n",
    "    messages=[\n",
    "        {\n",
    "            \"role\": \"system\",\n",
    "            \"content\": \"You're a professional editor in academia and your're editing a very important research paper.\\n\\nRe-write each paragraph you're given with appropriate word choices and sentence structures.  Make sure your output is semantically identical.  Be clear, concise, and spartan.  You only have one try, so double check your edit for accuracy and readability.  Only output the edited paragraph.\",\n",
    "        },\n",
    "        {\n",
    "            \"role\": \"user\",\n",
    "            \"content\": \"On the basis of the Guidelines, we also added two common topics, corporate governance information and risk management, under the governance dimension. Based on the above ideas, the ESG factor library of Xingzheng Financial Engineering will be divided into three dimensions of environmental, social, and sustainable development-related governance information, 11 key topics and a total of 38 key indicators. The number of underlying indicators covered by the ESG factor library as a whole reached 500. In addition, in terms of special indicators, we provide special indicator factors such as green revenue and penalty impact level.\"\n",
    "        }\n",
    "    ],\n",
    "    model=\"llama3-8b-8192\",\n",
    ")\n",
    "\n",
    "print(f\"\\033[92m{chat_completion.choices[0].message.content}\\033[0m\")"
   ]
  },
  {
   "cell_type": "code",
   "execution_count": 56,
   "metadata": {},
   "outputs": [
    {
     "data": {
      "text/plain": [
       "<docx.text.paragraph.Paragraph at 0x2bde80fd310>"
      ]
     },
     "execution_count": 56,
     "metadata": {},
     "output_type": "execute_result"
    }
   ],
   "source": [
    "document = Document('test.docx')\n",
    "prev_edit = None\n",
    "for para in document.paragraphs:\n",
    "    if prev_edit:\n",
    "        para.insert_paragraph_before(prev_edit, style='ListBullet')\n",
    "    text = para.text\n",
    "    edited_text = client.chat.completions.create(\n",
    "    messages=[\n",
    "        {\n",
    "            \"role\": \"system\",\n",
    "            \"content\": \"You're a professional editor in academia and your're editing a very important research paper.\\n\\nRe-write each paragraph you're given with appropriate word choices and sentence structures, only change where necessary.  Make sure your output is semantically identical.  Be clear, concise, and spartan.  You only have one try, so double check your edit for accuracy and readability.  Only output the edited paragraph.\",\n",
    "        },\n",
    "        {\n",
    "            \"role\": \"user\",\n",
    "            \"content\": text\n",
    "        }\n",
    "    ],\n",
    "    model=\"llama3-8b-8192\",\n",
    "    )\n",
    "    prev_edit = edited_text.choices[0].message.content\n",
    "\n",
    "document.add_paragraph(prev_edit, style='ListBullet')"
   ]
  },
  {
   "cell_type": "code",
   "execution_count": 57,
   "metadata": {},
   "outputs": [],
   "source": [
    "document.save('demo.docx')"
   ]
  }
 ],
 "metadata": {
  "kernelspec": {
   "display_name": "building",
   "language": "python",
   "name": "python3"
  },
  "language_info": {
   "codemirror_mode": {
    "name": "ipython",
    "version": 3
   },
   "file_extension": ".py",
   "mimetype": "text/x-python",
   "name": "python",
   "nbconvert_exporter": "python",
   "pygments_lexer": "ipython3",
   "version": "3.11.7"
  }
 },
 "nbformat": 4,
 "nbformat_minor": 2
}
